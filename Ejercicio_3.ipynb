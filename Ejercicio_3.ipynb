{
  "nbformat": 4,
  "nbformat_minor": 0,
  "metadata": {
    "colab": {
      "name": "Ejercicio_3.ipynb",
      "provenance": []
    },
    "kernelspec": {
      "name": "python3",
      "display_name": "Python 3"
    }
  },
  "cells": [
    {
      "cell_type": "code",
      "metadata": {
        "id": "PVVsQidIUpM6",
        "colab_type": "code",
        "colab": {
          "base_uri": "https://localhost:8080/",
          "height": 69
        },
        "outputId": "7378411d-9a8d-4b28-e902-0ecad48c85ad"
      },
      "source": [
        "\"\"\"\n",
        "Pseudocode: \n",
        "\n",
        "Initial values:\n",
        "Initial node weight = 0\n",
        "Other nodes weights = infinite\n",
        "Non Explored nodes = all\n",
        "\n",
        "While there are Non Explored nodes:\n",
        "    Chose the minimum weight non explored node as current\n",
        "    Remove current from non explored nodes list\n",
        "    For each current node successor:\n",
        "        If succesor weight > current node weight + distance(current, successor)\n",
        "             succesor weight = current node weight + distance(current, successor)\n",
        "\"\"\"\n",
        "\n",
        "import numpy as np\n",
        "\n",
        "#input the array NA\n",
        "\n",
        "cost_matrix = np.array([[0, 2, 2, 0, 0, 0],\n",
        "        [0, 0, 0, 2, 0, 5],\n",
        "        [0, 0, 0, 0, 2, 0],\n",
        "        [0, 0, 0, 0, 0, 1],\n",
        "        [0, 0, 0, 0, 0, 2],\n",
        "        [0, 0, 0, 0, 0, 0]])\n",
        "\n",
        "#function to define the nodes to visit with the less weight possible\n",
        "def Dijsktra_ (cost_matrix, ini_node, fin_node):\n",
        "             \n",
        "    weight = np.ones(cost_matrix.shape[0])*np.inf     \n",
        "    weight[ini_node] = 0  #weight of the S node\n",
        "    position = np.min(weight).astype(int) #actual position\n",
        "    visited = np.zeros(cost_matrix.shape[0])     #been there, done that\n",
        "    done = np.ones(cost_matrix.shape[0])   #\n",
        "\n",
        "\n",
        "    while position != fin_node:\n",
        "        done[position] = 0\n",
        "        arcs = np.argwhere(cost_matrix[position])\n",
        " \n",
        "\n",
        " # Updating the distance of the neighbor if its current distance\n",
        "     # is greater than the distance that has just been calculated\n",
        "\n",
        "        for not_visited in arcs:\n",
        "            to_be_visited = not_visited[0]\n",
        "            new_weight = cost_matrix[position, to_be_visited] + weight[position]\n",
        "            if new_weight < weight[to_be_visited]:\n",
        "                weight[to_be_visited] = new_weight\n",
        "                visited[to_be_visited] = position\n",
        "\n",
        "        new_weight = np.inf\n",
        "        for not_visited in np.argwhere(done).astype(int):\n",
        "            to_be_visited = not_visited[0]\n",
        "            if weight[to_be_visited] < new_weight:\n",
        "                new_weight = weight[to_be_visited]\n",
        "                position = to_be_visited\n",
        "\n",
        "    result = list([fin_node])\n",
        "    while position != ini_node:\n",
        "        position = visited[position].astype(int)\n",
        "        result.insert(0, position)\n",
        "\n",
        "\n",
        "    return result, weight[fin_node]\n",
        "\n",
        "\n",
        "\n",
        "result, weight = Dijsktra_(cost_matrix, 0, 5)\n",
        "\n",
        "# Printing out the shortest distance from the source to final node  \n",
        "\n",
        "print(\"Shortest Path:\")\n",
        "for i in result:\n",
        "  if i+1 == 1 :\n",
        "     print('s', end=\" to \") \n",
        "  else:\n",
        "     if  i+1 == 6 :\n",
        "       print ('t')\n",
        "     else:\n",
        "       print(i+1, end=\" to \")\n",
        "  \n",
        "    \n",
        " \n",
        "print(\"Min cost \", weight)"
      ],
      "execution_count": 33,
      "outputs": [
        {
          "output_type": "stream",
          "text": [
            "Shortest Path:\n",
            "s to 2 to 4 to t\n",
            "Min cost  5.0\n"
          ],
          "name": "stdout"
        }
      ]
    }
  ]
}