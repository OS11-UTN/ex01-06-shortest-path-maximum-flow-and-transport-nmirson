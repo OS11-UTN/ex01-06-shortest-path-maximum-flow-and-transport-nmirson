{
  "nbformat": 4,
  "nbformat_minor": 0,
  "metadata": {
    "kernelspec": {
      "display_name": "Python 3",
      "language": "python",
      "name": "python3"
    },
    "language_info": {
      "codemirror_mode": {
        "name": "ipython",
        "version": 3
      },
      "file_extension": ".py",
      "mimetype": "text/x-python",
      "name": "python",
      "nbconvert_exporter": "python",
      "pygments_lexer": "ipython3",
      "version": "3.7.6"
    },
    "colab": {
      "name": "Ejercicio_1.ipynb",
      "provenance": []
    }
  },
  "cells": [
    {
      "cell_type": "code",
      "metadata": {
        "id": "9Ytjugujtm9B",
        "colab_type": "code",
        "colab": {
          "base_uri": "https://localhost:8080/",
          "height": 89
        },
        "outputId": "cfb7c096-ebc4-4202-af51-aa421d592b25"
      },
      "source": [
        "import numpy as np\n",
        "from scipy.optimize import linprog\n",
        "import pandas as pd\n",
        "\n",
        "\n",
        "# Matrix treatment:\n",
        "def nn2na(NN):\n",
        "    # Get every location where exist an arc:\n",
        "    idxs = np.argwhere(NN)\n",
        "    # Preallocate NA matrix, dimension is (nodes, arcs)\n",
        "    NA = np.zeros([NN.shape[0], idxs.shape[0]]).astype(int)\n",
        "    C = np.zeros(NA.shape[1])\n",
        "    # Loop in every arc, complete from (1) to (-1)\n",
        "    for i, arc in enumerate(idxs):\n",
        "        # Node arc:\n",
        "        NA[arc[0], i] = 1 # From\n",
        "        NA[arc[1], i] = -1 # To\n",
        "\n",
        "    arc_idxs = [(arc[0], arc[1]) for arc in idxs]\n",
        "\n",
        "    return NA, arc_idxs\n",
        "\n",
        "#importo la matriz\n",
        "NN = np.array([[0, 1, 1, 0, 0, 0],\n",
        "              [0, 0, 0, 1, 0, 1],\n",
        "              [0, 0, 0, 0, 1, 0],\n",
        "              [0, 0, 0, 0, 0, 1],\n",
        "              [0, 0, 0, 0, 0, 1],\n",
        "              [0, 0, 0, 0, 0, 0]])\n",
        "\n",
        "#Problem de Minim\n",
        "#Matriz costo\n",
        "c = np.array([2, 2, 2, 5, 2, 1, 2]) \n",
        "#Matriz A\n",
        "A, arcs = nn2na(NN)                 \n",
        "#Term. Independientes\n",
        "B = np.array([1, 0, 0, 0, 0, -1])   \n",
        "#Limites\n",
        "bounds = tuple([(0, None) for arcs in range(0, A.shape[1])])\n",
        "\n",
        "\n",
        "#Funcion Obj\n",
        "res = linprog (c, A_eq=A ,b_eq=B , bounds=bounds, method='simplex')\n",
        "\n",
        "print('The raw solution will be: %s' % res.x)\n",
        "print('The Cost will be: %s' % res.fun)\n",
        "\n",
        "\n",
        "      "
      ],
      "execution_count": 15,
      "outputs": [
        {
          "output_type": "stream",
          "text": [
            "The raw solution will be: [1. 0. 1. 0. 0. 1. 0.]\n",
            "The Cost will be: 5.0\n"
          ],
          "name": "stdout"
        },
        {
          "output_type": "stream",
          "text": [
            "/usr/local/lib/python3.6/dist-packages/ipykernel_launcher.py:43: OptimizeWarning: A_eq does not appear to be of full row rank. To improve performance, check the problem formulation for redundant equality constraints.\n"
          ],
          "name": "stderr"
        }
      ]
    },
    {
      "cell_type": "code",
      "metadata": {
        "id": "ZcOoXx0ttm9J",
        "colab_type": "code",
        "colab": {}
      },
      "source": [
        ""
      ],
      "execution_count": 0,
      "outputs": []
    },
    {
      "cell_type": "code",
      "metadata": {
        "id": "fGfXqBf7tm9N",
        "colab_type": "code",
        "colab": {}
      },
      "source": [
        ""
      ],
      "execution_count": 0,
      "outputs": []
    },
    {
      "cell_type": "code",
      "metadata": {
        "id": "6s4_Pa-Ptm9R",
        "colab_type": "code",
        "colab": {}
      },
      "source": [
        ""
      ],
      "execution_count": 0,
      "outputs": []
    }
  ]
}