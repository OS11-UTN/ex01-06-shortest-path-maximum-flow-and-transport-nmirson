{
  "nbformat": 4,
  "nbformat_minor": 0,
  "metadata": {
    "colab": {
      "name": "Ejercicio_4.ipynb",
      "provenance": [],
      "collapsed_sections": []
    },
    "kernelspec": {
      "name": "python3",
      "display_name": "Python 3"
    }
  },
  "cells": [
    {
      "cell_type": "code",
      "metadata": {
        "id": "_ptO8_iF-tfq",
        "colab_type": "code",
        "colab": {
          "base_uri": "https://localhost:8080/",
          "height": 332
        },
        "outputId": "bffbd027-6e80-4021-f6f0-fac49cae7f29"
      },
      "source": [
        "import numpy as np\n",
        "import pandas as pd\n",
        "from scipy.optimize import linprog\n",
        "\n",
        "def nn2na(NN):\n",
        "    # Get every location where exist an arc:\n",
        "    idxs = np.argwhere(NN)\n",
        "    # Preallocate NA matrix, dimension is (nodes, arcs)\n",
        "    NA = np.zeros([NN.shape[0], idxs.shape[0]]).astype(int)\n",
        "    C = np.zeros(NA.shape[1])\n",
        "    # Loop in every arc, complete from (1) to (-1)\n",
        "    for i, arc in enumerate(idxs):\n",
        "        # Node arc:\n",
        "        NA[arc[0], i] = 1 # From\n",
        "        NA[arc[1], i] = -1 # To\n",
        "\n",
        "    arc_idxs = [(arc[0], arc[1]) for arc in idxs]\n",
        "\n",
        "    return NA, arc_idxs\n",
        "\n",
        "def get_usage_string(arc_idxs, res_flow, capacity):\n",
        "    return {arc: '%s/%s' % (flow, cap) for arc, flow, cap in zip(arc_idxs, res_flow, capacity)}\n",
        "\n",
        "def get_min_cut(arc_idxs, np_res_flow, np_capacity):\n",
        "    np_capacity = np.where(np_capacity == None, 999, np_capacity)\n",
        "\n",
        "    idxs = np.argwhere((np_res_flow - np_capacity) == 0)\n",
        "    return [arc_idxs[i[0]] for i in idxs]\n",
        "\n",
        "#import the data Node Node Matrix\n",
        "NN = np.array([[0, 1, 1, 0, 0, 0],\n",
        "               [0, 0, 0, 1, 0, 1],\n",
        "               [0, 0, 0, 0, 1, 0],\n",
        "               [0, 0, 0, 0, 0, 1],\n",
        "               [0, 0, 0, 0, 0, 1],\n",
        "               [1, 0, 0, 0, 0, 0]])\n",
        "\n",
        "#formulation of LP:\n",
        "Aeq, arc_idxs = nn2na(NN)\n",
        "C = np.array([0, 0, 0, 0, 0, 0, 0, -1])\n",
        "beq = np.array([0, 0, 0, 0, 0, 0])\n",
        "max_q = [7, 1, 2, 3, 2, 1, 2, None]\n",
        "bounds = tuple([(0, max_q[arcs]) for arcs in range(0, Aeq.shape[1])])\n",
        "\n",
        "#optimization:\n",
        "res = linprog(C, A_eq=Aeq, b_eq=beq, bounds=bounds, method='simplex')\n",
        "\n",
        "#printing the solution:\n",
        "usage = get_usage_string(arc_idxs, res.x.astype(int), max_q)\n",
        "min_cut = get_min_cut(arc_idxs, res.x, np.array(max_q))\n",
        "max_flow = res.fun * -1\n",
        "print('## Results ## \\n'\n",
        "      'The usage of each arc will be (from, to): %s \\n'\n",
        "      'The arcs that produce the minimum cut (from, to): %s \\n'\n",
        "      'The maximum flow will be: %0.2f ' % (usage, min_cut , max_flow))"
      ],
      "execution_count": 1,
      "outputs": [
        {
          "output_type": "stream",
          "text": [
            "## Optimizer inputs ## \n",
            "Cost vector: [ 0  0  0  0  0  0  0 -1] \n",
            " A_eq Node-Arc matrix:\n",
            "[[ 1  1  0  0  0  0  0 -1]\n",
            " [-1  0  1  1  0  0  0  0]\n",
            " [ 0 -1  0  0  1  0  0  0]\n",
            " [ 0  0 -1  0  0  1  0  0]\n",
            " [ 0  0  0  0 -1  0  1  0]\n",
            " [ 0  0  0 -1  0 -1 -1  1]] \n",
            "b_eq demand-supply vector: [0 0 0 0 0 0] \n",
            "Bounds of each X arc variable: ((0, 7), (0, 1), (0, 2), (0, 3), (0, 2), (0, 1), (0, 2), (0, None)) \n",
            "\n",
            "## Results ## \n",
            "The usage of each arc will be (from, to): {(0, 1): '4/7', (0, 2): '1/1', (1, 3): '1/2', (1, 5): '3/3', (2, 4): '1/2', (3, 5): '1/1', (4, 5): '1/2', (5, 0): '5/None'} \n",
            "The arcs that produce the minimum cut (from, to): [(0, 2), (1, 5), (3, 5)] \n",
            "The maximum flow will be: 5.00 \n"
          ],
          "name": "stdout"
        },
        {
          "output_type": "stream",
          "text": [
            "/usr/local/lib/python3.6/dist-packages/ipykernel_launcher.py:52: OptimizeWarning: A_eq does not appear to be of full row rank. To improve performance, check the problem formulation for redundant equality constraints.\n"
          ],
          "name": "stderr"
        }
      ]
    }
  ]
}