{
  "nbformat": 4,
  "nbformat_minor": 0,
  "metadata": {
    "colab": {
      "name": "Ejercicio_6",
      "provenance": [],
      "collapsed_sections": []
    },
    "kernelspec": {
      "name": "python3",
      "display_name": "Python 3"
    }
  },
  "cells": [
    {
      "cell_type": "code",
      "metadata": {
        "id": "RBpFoE9m9wq6",
        "colab_type": "code",
        "colab": {
          "base_uri": "https://localhost:8080/",
          "height": 263
        },
        "outputId": "33dc9abf-ad2c-4a75-94e1-95fca7911846"
      },
      "source": [
        "import numpy as np\n",
        "from scipy.optimize import linprog\n",
        "\n",
        "def nn2na(NN):\n",
        "    # Get every location where exist an arc:\n",
        "    idxs = np.argwhere(NN)\n",
        "    # Preallocate NA matrix, dimension is (nodes, arcs)\n",
        "    NA = np.zeros([NN.shape[0], idxs.shape[0]]).astype(int)\n",
        "    C = np.zeros(NA.shape[1])\n",
        "    # Loop in every arc, complete from (1) to (-1)\n",
        "    for i, arc in enumerate(idxs):\n",
        "        # Node arc:\n",
        "        NA[arc[0], i] = 1 # From\n",
        "        NA[arc[1], i] = -1 # To\n",
        "\n",
        "    arc_idxs = [(arc[0], arc[1]) for arc in idxs]\n",
        "\n",
        "    return NA, arc_idxs\n",
        "\n",
        "\n",
        "#import the data Node-Node matrix\n",
        "NN = np.array([[0, 0, 0, 1, 1],\n",
        "               [0, 0, 0, 1, 1],\n",
        "               [0, 0, 0, 1, 1],\n",
        "               [0, 0, 0, 0, 0],\n",
        "               [0, 0, 0, 0, 0]])\n",
        "\n",
        "#formulation of LP\n",
        "A_eq, arcs = nn2na(NN)\n",
        "b_eq = np.array([10, 20, 15, -25, -20])\n",
        "C = np.array([10, 20, 10, 10, 10, 30])\n",
        "bounds = tuple([(0, None) for arc in range(0, A_eq.shape[1])])\n",
        "\n",
        "   \n",
        "#optimization\n",
        "res = linprog(C, A_eq=A_eq, b_eq=b_eq, bounds=bounds, method='simplex')\n",
        "\n",
        "#printing the solution:\n",
        "print(\"\\nResults:\")\n",
        "print(\"\\nTransported from each node: \")\n",
        "for i in range(len(res.x)):\n",
        "   \n",
        "    print(arcs[i], \"->\", res.x[i].astype(int))\n",
        "print(\"\\nTotal Cost: \", res.fun)"
      ],
      "execution_count": 2,
      "outputs": [
        {
          "output_type": "stream",
          "text": [
            "\n",
            "Results:\n",
            "\n",
            "Transported from each node: \n",
            "(0, 3) -> 10\n",
            "(0, 4) -> 0\n",
            "(1, 3) -> 0\n",
            "(1, 4) -> 20\n",
            "(2, 3) -> 15\n",
            "(2, 4) -> 0\n",
            "\n",
            "Total Cost:  450.0\n"
          ],
          "name": "stdout"
        },
        {
          "output_type": "stream",
          "text": [
            "/usr/local/lib/python3.6/dist-packages/ipykernel_launcher.py:36: OptimizeWarning: A_eq does not appear to be of full row rank. To improve performance, check the problem formulation for redundant equality constraints.\n"
          ],
          "name": "stderr"
        }
      ]
    }
  ]
}